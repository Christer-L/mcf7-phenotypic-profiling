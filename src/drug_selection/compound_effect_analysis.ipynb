{
 "cells": [
  {
   "cell_type": "code",
   "outputs": [],
   "source": [
    "from glob import glob\n",
    "import pandas as pd\n",
    "import os\n",
    "import math\n",
    "from tqdm import tqdm\n",
    "import seaborn as sns\n",
    "\n",
    "\n",
    "PROFILE_PATH = \"single_nuclei_gaussian3_normalized_all_compounds.csv\"\n",
    "METADATA_PATH = \"/home/christer/Datasets/MCF7_paper/metadata/filtered_metadata.csv\""
   ],
   "metadata": {
    "collapsed": false,
    "ExecuteTime": {
     "end_time": "2024-03-29T16:39:44.855827Z",
     "start_time": "2024-03-29T16:39:44.843281Z"
    }
   },
   "id": "53f003f53c34c690",
   "execution_count": 1
  },
  {
   "cell_type": "code",
   "outputs": [],
   "source": [
    "df_profiles = pd.read_csv(PROFILE_PATH, index_col=0)\n",
    "metadata = pd.read_csv(METADATA_PATH, index_col=0)"
   ],
   "metadata": {
    "collapsed": false,
    "ExecuteTime": {
     "end_time": "2024-03-29T16:41:29.372757Z",
     "start_time": "2024-03-29T16:39:45.785252Z"
    }
   },
   "id": "6e7a54a296e3991a",
   "execution_count": 2
  },
  {
   "cell_type": "code",
   "outputs": [],
   "source": [
    "# Merge the two dataframes df_profiles and metadata\n",
    "profiles = df_profiles.set_index(\"path\").join(\n",
    "    metadata.set_index(\"Image_FileName_DAPI\")[[\"Image_Metadata_Plate_DAPI\",\n",
    "                                               \"Image_Metadata_Compound\",\n",
    "                                               \"Image_Metadata_Concentration\"]])\n",
    "profiles = profiles.reset_index()"
   ],
   "metadata": {
    "collapsed": false,
    "ExecuteTime": {
     "end_time": "2024-03-29T16:41:38.674956Z",
     "start_time": "2024-03-29T16:41:29.375530Z"
    }
   },
   "id": "9dcf60adb6ca9451",
   "execution_count": 3
  },
  {
   "cell_type": "code",
   "outputs": [],
   "source": [
    "controls = profiles[profiles[\"Image_Metadata_Compound\"] == \"DMSO\"].drop(\n",
    "    columns=[\"path\", \"Image_Metadata_Compound\", \"Image_Metadata_Concentration\"]).groupby(\"Image_Metadata_Plate_DAPI\").mean()"
   ],
   "metadata": {
    "collapsed": false,
    "ExecuteTime": {
     "end_time": "2024-03-29T16:41:40.515107Z",
     "start_time": "2024-03-29T16:41:38.677322Z"
    }
   },
   "id": "c91bae1a717651c7",
   "execution_count": 4
  },
  {
   "cell_type": "code",
   "outputs": [
    {
     "name": "stderr",
     "output_type": "stream",
     "text": [
      "  1%|          | 4962/927657 [07:00<21:43:49, 11.79it/s]\n",
      "\n",
      "KeyboardInterrupt\n",
      "\n"
     ]
    }
   ],
   "source": [
    "distances = None\n",
    "for idx_row, row in tqdm(profiles.iterrows(), total=profiles.shape[0]):\n",
    "    ctrl_features = controls.loc[row[\"Image_Metadata_Plate_DAPI\"]]\n",
    "    row_features = row.drop(labels=[\"Image_Metadata_Compound\", \"Image_Metadata_Concentration\", \"path\", \"Image_Metadata_Plate_DAPI\"])\n",
    "\n",
    "    diff = ctrl_features - row_features\n",
    "    diff[\"path\"] = row[\"path\"]\n",
    "    diff[\"Image_Metadata_Plate_DAPI\"] = row[\"Image_Metadata_Plate_DAPI\"]\n",
    "    \n",
    "    if not isinstance(distances, pd.DataFrame):\n",
    "        distances = pd.DataFrame(columns=diff.index.to_list())\n",
    "    distances.loc[idx_row] = diff"
   ],
   "metadata": {
    "collapsed": false,
    "ExecuteTime": {
     "end_time": "2024-03-29T16:37:00.368565Z",
     "start_time": "2024-03-29T16:29:59.187912Z"
    }
   },
   "id": "9a40105557afb741",
   "execution_count": 18
  },
  {
   "cell_type": "code",
   "outputs": [
    {
     "name": "stderr",
     "output_type": "stream",
     "text": [
      "100%|██████████| 927657/927657 [20:50<00:00, 635.54it/s]  "
     ]
    }
   ],
   "source": [
    "tqdm.pandas()\n",
    "\n",
    "def calculate_diff(row, controls):\n",
    "    ctrl_features = controls.loc[row[\"Image_Metadata_Plate_DAPI\"]]\n",
    "    row_features = row.drop(\n",
    "        labels=[\"Image_Metadata_Compound\", \"Image_Metadata_Concentration\", \"path\", \"Image_Metadata_Plate_DAPI\"])\n",
    "    diff = ctrl_features - row_features\n",
    "    diff[\"path\"] = row[\"path\"]\n",
    "    diff[\"Image_Metadata_Plate_DAPI\"] = row[\"Image_Metadata_Plate_DAPI\"]\n",
    "    return diff\n",
    "\n",
    "distances = profiles.progress_apply(calculate_diff, axis=1, args=(controls,))"
   ],
   "metadata": {
    "collapsed": false,
    "is_executing": true,
    "ExecuteTime": {
     "start_time": "2024-03-29T16:41:50.030883Z"
    }
   },
   "id": "23d91c78111b0167",
   "execution_count": null
  },
  {
   "cell_type": "code",
   "outputs": [],
   "source": [],
   "metadata": {
    "collapsed": false
   },
   "id": "3d317708211523c1"
  }
 ],
 "metadata": {
  "kernelspec": {
   "display_name": "Python 3",
   "language": "python",
   "name": "python3"
  },
  "language_info": {
   "codemirror_mode": {
    "name": "ipython",
    "version": 2
   },
   "file_extension": ".py",
   "mimetype": "text/x-python",
   "name": "python",
   "nbconvert_exporter": "python",
   "pygments_lexer": "ipython2",
   "version": "2.7.6"
  }
 },
 "nbformat": 4,
 "nbformat_minor": 5
}
