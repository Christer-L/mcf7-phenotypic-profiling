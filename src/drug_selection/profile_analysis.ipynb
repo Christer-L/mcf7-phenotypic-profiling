{
 "cells": [
  {
   "cell_type": "code",
   "execution_count": 49,
   "id": "initial_id",
   "metadata": {
    "collapsed": true,
    "ExecuteTime": {
     "end_time": "2024-03-14T11:43:24.205885Z",
     "start_time": "2024-03-14T11:43:23.090186Z"
    }
   },
   "outputs": [],
   "source": [
    "from glob import glob\n",
    "import pandas as pd\n",
    "import os\n",
    "import math\n",
    "from tqdm import tqdm\n",
    "import seaborn as sns\n",
    "\n",
    "PYRAD_PROFILE_DIR = \"/home/christer/Datasets/MCF7_paper/structured/profiles/pyradiomics/gaussian_3\"\n",
    "DINO_PROFILE_DIR = \"/home/christer/Datasets/MCF7_paper/structured/profiles/dino/gaussian_3\"\n",
    "METADATA_PATH = \"/home/christer/Datasets/MCF7_paper/metadata/filtered_metadata.csv\""
   ]
  },
  {
   "cell_type": "code",
   "outputs": [
    {
     "data": {
      "text/plain": "      Unnamed: 0  TableNumber  ImageNumber  \\\n0              0            2          113   \n1              1            2          114   \n2              2            2          115   \n3              3            2          116   \n4              4            2          353   \n...          ...          ...          ...   \n6155        6155            9         3560   \n6156        6156            9         3597   \n6157        6157            9         3598   \n6158        6158            9         3599   \n6159        6159            9         3600   \n\n                                    Image_FileName_DAPI Image_PathName_DAPI  \\\n0     Week2_180607_D10_s1_w13459A84F-B9BB-4FB2-B58E-...   Week2/Week2_24121   \n1     Week2_180607_D10_s2_w111F1FA1E-8B45-451D-9C50-...   Week2/Week2_24121   \n2     Week2_180607_D10_s3_w13C4CF98E-5824-43A6-A319-...   Week2/Week2_24121   \n3     Week2_180607_D10_s4_w1E4144E18-06FF-4789-8F9F-...   Week2/Week2_24121   \n4     Week2_180607_D10_s1_w199106068-CEA7-4BAB-83EA-...   Week2/Week2_24141   \n...                                                 ...                 ...   \n6155  Week9_090907_F11_s4_w19580FF4D-DC3D-4BD0-93FE-...   Week9/Week9_39301   \n6156  Week9_090907_G11_s1_w1EDE534D2-FCEE-4F92-A30B-...   Week9/Week9_39301   \n6157  Week9_090907_G11_s2_w10B010F39-3B4B-4DCB-8E34-...   Week9/Week9_39301   \n6158  Week9_090907_G11_s3_w10394282C-6D3D-4E0E-9FA3-...   Week9/Week9_39301   \n6159  Week9_090907_G11_s4_w1C447A151-1F85-4E19-9C96-...   Week9/Week9_39301   \n\n                                 Image_FileName_Tubulin  \\\n0     Week2_180607_D10_s1_w2D35FB8FC-0085-4F4D-B14A-...   \n1     Week2_180607_D10_s2_w277BE8611-E2E6-456E-838C-...   \n2     Week2_180607_D10_s3_w2D8C8A48C-6EAF-463F-A673-...   \n3     Week2_180607_D10_s4_w25BD84D0B-672D-4292-87B7-...   \n4     Week2_180607_D10_s1_w20787BC73-DFAE-40D7-80BA-...   \n...                                                 ...   \n6155  Week9_090907_F11_s4_w2DC65EC6F-BDCA-4B05-B243-...   \n6156  Week9_090907_G11_s1_w26A22E27F-6A81-43F5-9587-...   \n6157  Week9_090907_G11_s2_w2720AC778-3F85-4293-8D75-...   \n6158  Week9_090907_G11_s3_w24C59DB62-E99B-4284-BAD2-...   \n6159  Week9_090907_G11_s4_w22E574F48-321D-4470-ACC4-...   \n\n     Image_PathName_Tubulin  \\\n0         Week2/Week2_24121   \n1         Week2/Week2_24121   \n2         Week2/Week2_24121   \n3         Week2/Week2_24121   \n4         Week2/Week2_24141   \n...                     ...   \n6155      Week9/Week9_39301   \n6156      Week9/Week9_39301   \n6157      Week9/Week9_39301   \n6158      Week9/Week9_39301   \n6159      Week9/Week9_39301   \n\n                                   Image_FileName_Actin Image_PathName_Actin  \\\n0     Week2_180607_D10_s1_w440EA0925-FF71-447F-B395-...    Week2/Week2_24121   \n1     Week2_180607_D10_s2_w433B4BF8D-9087-401F-89B1-...    Week2/Week2_24121   \n2     Week2_180607_D10_s3_w4E03CCDE6-86D5-4F10-9B54-...    Week2/Week2_24121   \n3     Week2_180607_D10_s4_w4A0FA5EEA-D0F6-4857-9C81-...    Week2/Week2_24121   \n4     Week2_180607_D10_s1_w4E09AB7C1-BAF1-4FFE-BFC7-...    Week2/Week2_24141   \n...                                                 ...                  ...   \n6155  Week9_090907_F11_s4_w45699A0F4-9AEE-4CD4-8973-...    Week9/Week9_39301   \n6156  Week9_090907_G11_s1_w4554A2BF7-0D53-4D27-BF92-...    Week9/Week9_39301   \n6157  Week9_090907_G11_s2_w49B290958-BCF2-4DDD-B0E9-...    Week9/Week9_39301   \n6158  Week9_090907_G11_s3_w471FE25C8-2477-456F-9D74-...    Week9/Week9_39301   \n6159  Week9_090907_G11_s4_w4200C5003-7F75-47DF-928C-...    Week9/Week9_39301   \n\n     Image_Metadata_Plate_DAPI Image_Metadata_Well_DAPI  Replicate  \\\n0                  Week2_24121                      D10          1   \n1                  Week2_24121                      D10          1   \n2                  Week2_24121                      D10          1   \n3                  Week2_24121                      D10          1   \n4                  Week2_24141                      D10          2   \n...                        ...                      ...        ...   \n6155               Week9_39301                      F11          3   \n6156               Week9_39301                      G11          3   \n6157               Week9_39301                      G11          3   \n6158               Week9_39301                      G11          3   \n6159               Week9_39301                      G11          3   \n\n     Image_Metadata_Compound  Image_Metadata_Concentration  \n0                       ALLN                          0.03  \n1                       ALLN                          0.03  \n2                       ALLN                          0.03  \n3                       ALLN                          0.03  \n4                       ALLN                          0.03  \n...                      ...                           ...  \n6155                    DMSO                          0.00  \n6156                    DMSO                          0.00  \n6157                    DMSO                          0.00  \n6158                    DMSO                          0.00  \n6159                    DMSO                          0.00  \n\n[6160 rows x 14 columns]",
      "text/html": "<div>\n<style scoped>\n    .dataframe tbody tr th:only-of-type {\n        vertical-align: middle;\n    }\n\n    .dataframe tbody tr th {\n        vertical-align: top;\n    }\n\n    .dataframe thead th {\n        text-align: right;\n    }\n</style>\n<table border=\"1\" class=\"dataframe\">\n  <thead>\n    <tr style=\"text-align: right;\">\n      <th></th>\n      <th>Unnamed: 0</th>\n      <th>TableNumber</th>\n      <th>ImageNumber</th>\n      <th>Image_FileName_DAPI</th>\n      <th>Image_PathName_DAPI</th>\n      <th>Image_FileName_Tubulin</th>\n      <th>Image_PathName_Tubulin</th>\n      <th>Image_FileName_Actin</th>\n      <th>Image_PathName_Actin</th>\n      <th>Image_Metadata_Plate_DAPI</th>\n      <th>Image_Metadata_Well_DAPI</th>\n      <th>Replicate</th>\n      <th>Image_Metadata_Compound</th>\n      <th>Image_Metadata_Concentration</th>\n    </tr>\n  </thead>\n  <tbody>\n    <tr>\n      <th>0</th>\n      <td>0</td>\n      <td>2</td>\n      <td>113</td>\n      <td>Week2_180607_D10_s1_w13459A84F-B9BB-4FB2-B58E-...</td>\n      <td>Week2/Week2_24121</td>\n      <td>Week2_180607_D10_s1_w2D35FB8FC-0085-4F4D-B14A-...</td>\n      <td>Week2/Week2_24121</td>\n      <td>Week2_180607_D10_s1_w440EA0925-FF71-447F-B395-...</td>\n      <td>Week2/Week2_24121</td>\n      <td>Week2_24121</td>\n      <td>D10</td>\n      <td>1</td>\n      <td>ALLN</td>\n      <td>0.03</td>\n    </tr>\n    <tr>\n      <th>1</th>\n      <td>1</td>\n      <td>2</td>\n      <td>114</td>\n      <td>Week2_180607_D10_s2_w111F1FA1E-8B45-451D-9C50-...</td>\n      <td>Week2/Week2_24121</td>\n      <td>Week2_180607_D10_s2_w277BE8611-E2E6-456E-838C-...</td>\n      <td>Week2/Week2_24121</td>\n      <td>Week2_180607_D10_s2_w433B4BF8D-9087-401F-89B1-...</td>\n      <td>Week2/Week2_24121</td>\n      <td>Week2_24121</td>\n      <td>D10</td>\n      <td>1</td>\n      <td>ALLN</td>\n      <td>0.03</td>\n    </tr>\n    <tr>\n      <th>2</th>\n      <td>2</td>\n      <td>2</td>\n      <td>115</td>\n      <td>Week2_180607_D10_s3_w13C4CF98E-5824-43A6-A319-...</td>\n      <td>Week2/Week2_24121</td>\n      <td>Week2_180607_D10_s3_w2D8C8A48C-6EAF-463F-A673-...</td>\n      <td>Week2/Week2_24121</td>\n      <td>Week2_180607_D10_s3_w4E03CCDE6-86D5-4F10-9B54-...</td>\n      <td>Week2/Week2_24121</td>\n      <td>Week2_24121</td>\n      <td>D10</td>\n      <td>1</td>\n      <td>ALLN</td>\n      <td>0.03</td>\n    </tr>\n    <tr>\n      <th>3</th>\n      <td>3</td>\n      <td>2</td>\n      <td>116</td>\n      <td>Week2_180607_D10_s4_w1E4144E18-06FF-4789-8F9F-...</td>\n      <td>Week2/Week2_24121</td>\n      <td>Week2_180607_D10_s4_w25BD84D0B-672D-4292-87B7-...</td>\n      <td>Week2/Week2_24121</td>\n      <td>Week2_180607_D10_s4_w4A0FA5EEA-D0F6-4857-9C81-...</td>\n      <td>Week2/Week2_24121</td>\n      <td>Week2_24121</td>\n      <td>D10</td>\n      <td>1</td>\n      <td>ALLN</td>\n      <td>0.03</td>\n    </tr>\n    <tr>\n      <th>4</th>\n      <td>4</td>\n      <td>2</td>\n      <td>353</td>\n      <td>Week2_180607_D10_s1_w199106068-CEA7-4BAB-83EA-...</td>\n      <td>Week2/Week2_24141</td>\n      <td>Week2_180607_D10_s1_w20787BC73-DFAE-40D7-80BA-...</td>\n      <td>Week2/Week2_24141</td>\n      <td>Week2_180607_D10_s1_w4E09AB7C1-BAF1-4FFE-BFC7-...</td>\n      <td>Week2/Week2_24141</td>\n      <td>Week2_24141</td>\n      <td>D10</td>\n      <td>2</td>\n      <td>ALLN</td>\n      <td>0.03</td>\n    </tr>\n    <tr>\n      <th>...</th>\n      <td>...</td>\n      <td>...</td>\n      <td>...</td>\n      <td>...</td>\n      <td>...</td>\n      <td>...</td>\n      <td>...</td>\n      <td>...</td>\n      <td>...</td>\n      <td>...</td>\n      <td>...</td>\n      <td>...</td>\n      <td>...</td>\n      <td>...</td>\n    </tr>\n    <tr>\n      <th>6155</th>\n      <td>6155</td>\n      <td>9</td>\n      <td>3560</td>\n      <td>Week9_090907_F11_s4_w19580FF4D-DC3D-4BD0-93FE-...</td>\n      <td>Week9/Week9_39301</td>\n      <td>Week9_090907_F11_s4_w2DC65EC6F-BDCA-4B05-B243-...</td>\n      <td>Week9/Week9_39301</td>\n      <td>Week9_090907_F11_s4_w45699A0F4-9AEE-4CD4-8973-...</td>\n      <td>Week9/Week9_39301</td>\n      <td>Week9_39301</td>\n      <td>F11</td>\n      <td>3</td>\n      <td>DMSO</td>\n      <td>0.00</td>\n    </tr>\n    <tr>\n      <th>6156</th>\n      <td>6156</td>\n      <td>9</td>\n      <td>3597</td>\n      <td>Week9_090907_G11_s1_w1EDE534D2-FCEE-4F92-A30B-...</td>\n      <td>Week9/Week9_39301</td>\n      <td>Week9_090907_G11_s1_w26A22E27F-6A81-43F5-9587-...</td>\n      <td>Week9/Week9_39301</td>\n      <td>Week9_090907_G11_s1_w4554A2BF7-0D53-4D27-BF92-...</td>\n      <td>Week9/Week9_39301</td>\n      <td>Week9_39301</td>\n      <td>G11</td>\n      <td>3</td>\n      <td>DMSO</td>\n      <td>0.00</td>\n    </tr>\n    <tr>\n      <th>6157</th>\n      <td>6157</td>\n      <td>9</td>\n      <td>3598</td>\n      <td>Week9_090907_G11_s2_w10B010F39-3B4B-4DCB-8E34-...</td>\n      <td>Week9/Week9_39301</td>\n      <td>Week9_090907_G11_s2_w2720AC778-3F85-4293-8D75-...</td>\n      <td>Week9/Week9_39301</td>\n      <td>Week9_090907_G11_s2_w49B290958-BCF2-4DDD-B0E9-...</td>\n      <td>Week9/Week9_39301</td>\n      <td>Week9_39301</td>\n      <td>G11</td>\n      <td>3</td>\n      <td>DMSO</td>\n      <td>0.00</td>\n    </tr>\n    <tr>\n      <th>6158</th>\n      <td>6158</td>\n      <td>9</td>\n      <td>3599</td>\n      <td>Week9_090907_G11_s3_w10394282C-6D3D-4E0E-9FA3-...</td>\n      <td>Week9/Week9_39301</td>\n      <td>Week9_090907_G11_s3_w24C59DB62-E99B-4284-BAD2-...</td>\n      <td>Week9/Week9_39301</td>\n      <td>Week9_090907_G11_s3_w471FE25C8-2477-456F-9D74-...</td>\n      <td>Week9/Week9_39301</td>\n      <td>Week9_39301</td>\n      <td>G11</td>\n      <td>3</td>\n      <td>DMSO</td>\n      <td>0.00</td>\n    </tr>\n    <tr>\n      <th>6159</th>\n      <td>6159</td>\n      <td>9</td>\n      <td>3600</td>\n      <td>Week9_090907_G11_s4_w1C447A151-1F85-4E19-9C96-...</td>\n      <td>Week9/Week9_39301</td>\n      <td>Week9_090907_G11_s4_w22E574F48-321D-4470-ACC4-...</td>\n      <td>Week9/Week9_39301</td>\n      <td>Week9_090907_G11_s4_w4200C5003-7F75-47DF-928C-...</td>\n      <td>Week9/Week9_39301</td>\n      <td>Week9_39301</td>\n      <td>G11</td>\n      <td>3</td>\n      <td>DMSO</td>\n      <td>0.00</td>\n    </tr>\n  </tbody>\n</table>\n<p>6160 rows × 14 columns</p>\n</div>"
     },
     "execution_count": 25,
     "metadata": {},
     "output_type": "execute_result"
    }
   ],
   "source": [
    "metadata = pd.read_csv(METADATA_PATH)\n",
    "metadata"
   ],
   "metadata": {
    "collapsed": false,
    "ExecuteTime": {
     "end_time": "2024-03-14T09:45:29.855539Z",
     "start_time": "2024-03-14T09:45:29.811578Z"
    }
   },
   "id": "d633f815f99f4284",
   "execution_count": 25
  },
  {
   "cell_type": "code",
   "outputs": [
    {
     "name": "stderr",
     "output_type": "stream",
     "text": [
      "100%|██████████| 39/39 [41:06<00:00, 63.25s/it] \n"
     ]
    }
   ],
   "source": [
    "compounds = metadata[\"Image_Metadata_Compound\"].unique().tolist()\n",
    "\n",
    "distances = []\n",
    "count_missing_ctrl = 0\n",
    "count_missing_drug = 0\n",
    "\n",
    "\n",
    "for compound in tqdm(compounds):\n",
    "    if compound == \"DMSO\":\n",
    "        continue\n",
    "    doses = metadata[metadata[\"Image_Metadata_Compound\"] == compound][\"Image_Metadata_Concentration\"].unique().tolist()\n",
    "    for dose in doses:\n",
    "        df_dose_compound = metadata[(metadata[\"Image_Metadata_Compound\"] == compound) & (metadata[\"Image_Metadata_Concentration\"] == dose)]\n",
    "        for idx_row, row in df_dose_compound.iterrows():\n",
    "            profile_path = row[\"Image_PathName_DAPI\"].split(\"/\")[1] + \"/\" + row[\"Image_FileName_DAPI\"][:-4] + \".csv\"\n",
    "            \n",
    "            pyrad_path = os.path.join(PYRAD_PROFILE_DIR, profile_path)\n",
    "            dino_path = os.path.join(DINO_PROFILE_DIR, profile_path)\n",
    "            \n",
    "            if not os.path.exists(pyrad_path) or not os.path.exists(dino_path):\n",
    "                count_missing_drug += 1\n",
    "                continue\n",
    "            \n",
    "            pyrad_profile = pd.read_csv(pyrad_path)\n",
    "            dino_profile = pd.read_csv(dino_path)\n",
    "            \n",
    "            pyrad_profile_filtered = pyrad_profile.mean().to_frame().T\n",
    "            dino_profile_filtered = dino_profile.mean().to_frame().T\n",
    "            \n",
    "            joint_profile = pd.concat([dino_profile_filtered, pyrad_profile_filtered], axis=1).drop(columns=[\"Unnamed: 0\", \"id\"])\n",
    "            \n",
    "            controls = metadata[(row[\"Image_Metadata_Plate_DAPI\"] == metadata[\"Image_Metadata_Plate_DAPI\"]) & \n",
    "                               (metadata[\"Image_Metadata_Compound\"] == \"DMSO\")]\n",
    "            \n",
    "            control_profiles = []\n",
    "            for idx_ctrl, ctrl_row in controls.iterrows():\n",
    "                ctrl_profile_path = ctrl_row[\"Image_PathName_DAPI\"].split(\"/\")[1] + \"/\" + ctrl_row[\"Image_FileName_DAPI\"][:-4] + \".csv\"\n",
    "                \n",
    "                ctrl_pyrad_path = os.path.join(PYRAD_PROFILE_DIR, profile_path)\n",
    "                ctrl_dino_path = os.path.join(DINO_PROFILE_DIR, profile_path)\n",
    "            \n",
    "                if not os.path.exists(ctrl_pyrad_path) or not os.path.exists(ctrl_dino_path):\n",
    "                    count_missing_ctrl += 1\n",
    "                    continue\n",
    "                    \n",
    "                ctrl_pyrad_profile = pd.read_csv(ctrl_pyrad_path)\n",
    "                ctrl_dino_profile = pd.read_csv(ctrl_dino_path)\n",
    "\n",
    "                pyrad_ctrl_profile_filtered = ctrl_pyrad_profile.mean().to_frame().T\n",
    "                dino_ctrl_profile_filtered = ctrl_dino_profile.mean().to_frame().T\n",
    "                joint_ctrl_profile = pd.concat([dino_ctrl_profile_filtered, pyrad_ctrl_profile_filtered], axis=1)\n",
    "                control_profiles.append(joint_ctrl_profile)\n",
    "            avg_control_profile = pd.concat(control_profiles).mean().to_frame().T.drop(columns=[\"Unnamed: 0\", \"id\"])\n",
    "            \n",
    "            euc_distance = math.dist(avg_control_profile.values[0], joint_profile.values[0])\n",
    "            distances.append([compound, dose, euc_distance])\n",
    "df_distances = pd.DataFrame(distances, columns=[\"compound\", \"dose\", \"distance\"])        "
   ],
   "metadata": {
    "collapsed": false,
    "ExecuteTime": {
     "end_time": "2024-03-14T11:33:18.816329Z",
     "start_time": "2024-03-14T10:52:12.148351Z"
    }
   },
   "id": "7b87984bef46fba8",
   "execution_count": 44
  },
  {
   "cell_type": "code",
   "outputs": [
    {
     "data": {
      "text/plain": "<Axes: xlabel='dose', ylabel='distance'>"
     },
     "execution_count": 57,
     "metadata": {},
     "output_type": "execute_result"
    },
    {
     "data": {
      "text/plain": "<Figure size 640x480 with 1 Axes>",
      "image/png": "[encoded data removed]"
     },
     "metadata": {},
     "output_type": "display_data"
    }
   ],
   "source": [
    "data = df_distances[df_distances[\"compound\"] == \"nocodazole\"]\n",
    "sns.scatterplot(data=data, x=\"dose\", y=\"distance\")"
   ],
   "metadata": {
    "collapsed": false,
    "ExecuteTime": {
     "end_time": "2024-03-14T11:50:05.600517Z",
     "start_time": "2024-03-14T11:50:05.441630Z"
    }
   },
   "id": "7ab0142a332b0da3",
   "execution_count": 57
  },
  {
   "cell_type": "code",
   "outputs": [
    {
     "data": {
      "text/plain": "     compound   dose      distance\n0        ALLN   0.03  2.285232e-13\n1        ALLN   0.03  2.311607e-13\n2        ALLN   0.03  5.268356e-09\n3        ALLN   0.03  5.268356e-09\n4        ALLN   0.03  3.232835e-13\n...       ...    ...           ...\n4819     AZ-U  10.00  2.873142e-14\n4820     AZ-U  10.00  7.277184e-12\n4821     AZ-U  10.00  5.034682e-14\n4822     AZ-U  10.00  2.963280e-14\n4823     AZ-U  10.00  2.886640e-14\n\n[4824 rows x 3 columns]",
      "text/html": "<div>\n<style scoped>\n    .dataframe tbody tr th:only-of-type {\n        vertical-align: middle;\n    }\n\n    .dataframe tbody tr th {\n        vertical-align: top;\n    }\n\n    .dataframe thead th {\n        text-align: right;\n    }\n</style>\n<table border=\"1\" class=\"dataframe\">\n  <thead>\n    <tr style=\"text-align: right;\">\n      <th></th>\n      <th>compound</th>\n      <th>dose</th>\n      <th>distance</th>\n    </tr>\n  </thead>\n  <tbody>\n    <tr>\n      <th>0</th>\n      <td>ALLN</td>\n      <td>0.03</td>\n      <td>2.285232e-13</td>\n    </tr>\n    <tr>\n      <th>1</th>\n      <td>ALLN</td>\n      <td>0.03</td>\n      <td>2.311607e-13</td>\n    </tr>\n    <tr>\n      <th>2</th>\n      <td>ALLN</td>\n      <td>0.03</td>\n      <td>5.268356e-09</td>\n    </tr>\n    <tr>\n      <th>3</th>\n      <td>ALLN</td>\n      <td>0.03</td>\n      <td>5.268356e-09</td>\n    </tr>\n    <tr>\n      <th>4</th>\n      <td>ALLN</td>\n      <td>0.03</td>\n      <td>3.232835e-13</td>\n    </tr>\n    <tr>\n      <th>...</th>\n      <td>...</td>\n      <td>...</td>\n      <td>...</td>\n    </tr>\n    <tr>\n      <th>4819</th>\n      <td>AZ-U</td>\n      <td>10.00</td>\n      <td>2.873142e-14</td>\n    </tr>\n    <tr>\n      <th>4820</th>\n      <td>AZ-U</td>\n      <td>10.00</td>\n      <td>7.277184e-12</td>\n    </tr>\n    <tr>\n      <th>4821</th>\n      <td>AZ-U</td>\n      <td>10.00</td>\n      <td>5.034682e-14</td>\n    </tr>\n    <tr>\n      <th>4822</th>\n      <td>AZ-U</td>\n      <td>10.00</td>\n      <td>2.963280e-14</td>\n    </tr>\n    <tr>\n      <th>4823</th>\n      <td>AZ-U</td>\n      <td>10.00</td>\n      <td>2.886640e-14</td>\n    </tr>\n  </tbody>\n</table>\n<p>4824 rows × 3 columns</p>\n</div>"
     },
     "execution_count": 50,
     "metadata": {},
     "output_type": "execute_result"
    }
   ],
   "source": [
    "df_distances"
   ],
   "metadata": {
    "collapsed": false,
    "ExecuteTime": {
     "end_time": "2024-03-14T11:44:05.804748Z",
     "start_time": "2024-03-14T11:44:05.793378Z"
    }
   },
   "id": "e2c5e7fa7013e20e",
   "execution_count": 50
  },
  {
   "cell_type": "code",
   "outputs": [],
   "source": [],
   "metadata": {
    "collapsed": false
   },
   "id": "7290899b9a9fcec2"
  }
 ],
 "metadata": {
  "kernelspec": {
   "display_name": "Python 3",
   "language": "python",
   "name": "python3"
  },
  "language_info": {
   "codemirror_mode": {
    "name": "ipython",
    "version": 2
   },
   "file_extension": ".py",
   "mimetype": "text/x-python",
   "name": "python",
   "nbconvert_exporter": "python",
   "pygments_lexer": "ipython2",
   "version": "2.7.6"
  }
 },
 "nbformat": 4,
 "nbformat_minor": 5
}
