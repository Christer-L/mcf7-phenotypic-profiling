{
 "cells": [
  {
   "cell_type": "code",
   "execution_count": 6,
   "id": "initial_id",
   "metadata": {
    "collapsed": true,
    "ExecuteTime": {
     "end_time": "2024-03-14T16:25:27.488898Z",
     "start_time": "2024-03-14T16:25:27.484837Z"
    }
   },
   "outputs": [],
   "source": [
    "import pandas as pd\n",
    "\n",
    "PROFILE_PATH = \"/home/christer/Datasets/MCF7/out/single_nuclei_gaussian3_normalized_single_cell.csv\""
   ]
  },
  {
   "cell_type": "code",
   "outputs": [],
   "source": [
    "table = pd.read_csv(PROFILE_PATH)"
   ],
   "metadata": {
    "collapsed": false,
    "ExecuteTime": {
     "end_time": "2024-03-14T16:25:45.983262Z",
     "start_time": "2024-03-14T16:25:29.046585Z"
    }
   },
   "id": "58073f58df7ee9d8",
   "execution_count": 7
  },
  {
   "cell_type": "code",
   "outputs": [
    {
     "data": {
      "text/plain": "        nucleus_label_id   MEVAE_0   MEVAE_1   MEVAE_2   MEVAE_3   MEVAE_4  \\\n0                      1  0.829524 -0.431699 -2.027851 -0.236727 -1.776646   \n1                     10 -0.511993  2.264229  3.573155 -0.121065  0.622903   \n2                    100  0.354940 -0.568929  1.531881 -0.497587 -1.318389   \n3                    101 -0.723006  0.236167  2.260900  0.181090  0.133216   \n4                    102  0.584558  0.272585  3.004394  0.064317  0.213237   \n...                  ...       ...       ...       ...       ...       ...   \n165576                95  0.872031 -0.120161  0.730679 -1.150540 -3.309189   \n165577                96  2.472578 -1.344453  4.544069 -0.210479 -0.572955   \n165578                97  1.479295 -2.520546  0.595098  0.704626 -2.581388   \n165579                98  1.817495 -2.007999  0.060944 -0.102757 -0.745181   \n165580                99  1.669654  0.803767  0.106015  0.212779  0.500568   \n\n         MEVAE_5   MEVAE_6   MEVAE_7   MEVAE_8  ...  \\\n0      -0.847156  0.073231 -0.545120 -1.504611  ...   \n1       0.501957  0.019351  0.487239 -0.587418  ...   \n2      -1.347895 -0.768199  0.239909  0.093347  ...   \n3      -0.176698  0.207282  0.053831 -1.435793  ...   \n4      -0.194643  0.353262 -0.020850  0.172947  ...   \n...          ...       ...       ...       ...  ...   \n165576  0.697588 -0.147627  0.075484 -1.067852  ...   \n165577 -0.429177 -0.028202 -0.138917 -0.775406  ...   \n165578  0.341864  0.249840 -0.044772 -0.739465  ...   \n165579 -0.909900 -0.399792 -0.109981  0.386942  ...   \n165580 -0.932919 -0.178273 -0.325202  0.478058  ...   \n\n        PyRadiomics_original_gldm_LargeDependenceLowGrayLevelEmphasis  \\\n0                                                0.088792               \n1                                                0.083124               \n2                                                0.083832               \n3                                                0.076806               \n4                                                0.043608               \n...                                                   ...               \n165576                                           0.101235               \n165577                                           0.093707               \n165578                                           0.130201               \n165579                                           0.089475               \n165580                                           0.118907               \n\n        PyRadiomics_original_gldm_LowGrayLevelEmphasis  \\\n0                                             0.012025   \n1                                             0.010776   \n2                                             0.029677   \n3                                             0.025271   \n4                                             0.016646   \n...                                                ...   \n165576                                        0.018161   \n165577                                        0.008778   \n165578                                        0.014245   \n165579                                        0.010050   \n165580                                        0.016299   \n\n        PyRadiomics_original_gldm_SmallDependenceEmphasis  \\\n0                                                0.196391   \n1                                                0.243430   \n2                                                0.363537   \n3                                                0.361975   \n4                                                0.431036   \n...                                                   ...   \n165576                                           0.237983   \n165577                                           0.188244   \n165578                                           0.181528   \n165579                                           0.216894   \n165580                                           0.203126   \n\n        PyRadiomics_original_gldm_SmallDependenceHighGrayLevelEmphasis  \\\n0                                               26.052162                \n1                                               32.053996                \n2                                               32.021390                \n3                                               41.038075                \n4                                               62.652496                \n...                                                   ...                \n165576                                          23.135815                \n165577                                          24.500828                \n165578                                          18.853044                \n165579                                          30.941120                \n165580                                          22.597566                \n\n        PyRadiomics_original_gldm_SmallDependenceLowGrayLevelEmphasis  \\\n0                                                0.007129               \n1                                                0.006321               \n2                                                0.024424               \n3                                                0.020058               \n4                                                0.014154               \n...                                                   ...               \n165576                                           0.012148               \n165577                                           0.004331               \n165578                                           0.007718               \n165579                                           0.004658               \n165580                                           0.010273               \n\n                                      Image_Filename_DAPI  \\\n0       Week1_150607_E03_s1_w16095F7B1-3F9F-41EE-B293-...   \n1       Week1_150607_E03_s1_w16095F7B1-3F9F-41EE-B293-...   \n2       Week1_150607_E03_s1_w16095F7B1-3F9F-41EE-B293-...   \n3       Week1_150607_E03_s1_w16095F7B1-3F9F-41EE-B293-...   \n4       Week1_150607_E03_s1_w16095F7B1-3F9F-41EE-B293-...   \n...                                                   ...   \n165576  Week7_7__G11_s4_w148C49A7C-A162-4F22-B01F-36BD...   \n165577  Week7_7__G11_s4_w148C49A7C-A162-4F22-B01F-36BD...   \n165578  Week7_7__G11_s4_w148C49A7C-A162-4F22-B01F-36BD...   \n165579  Week7_7__G11_s4_w148C49A7C-A162-4F22-B01F-36BD...   \n165580  Week7_7__G11_s4_w148C49A7C-A162-4F22-B01F-36BD...   \n\n        Image_Metadata_Well_DAPI  Image_Metadata_Plate_DAPI  \\\n0                            E03                Week1_22361   \n1                            E03                Week1_22361   \n2                            E03                Week1_22361   \n3                            E03                Week1_22361   \n4                            E03                Week1_22361   \n...                          ...                        ...   \n165576                       G11                Week7_34641   \n165577                       G11                Week7_34641   \n165578                       G11                Week7_34641   \n165579                       G11                Week7_34641   \n165580                       G11                Week7_34641   \n\n                              MoA  Image_Metadata_Compound  \n0       Microtubule destabilizers               colchicine  \n1       Microtubule destabilizers               colchicine  \n2       Microtubule destabilizers               colchicine  \n3       Microtubule destabilizers               colchicine  \n4       Microtubule destabilizers               colchicine  \n...                           ...                      ...  \n165576                       DMSO                     DMSO  \n165577                       DMSO                     DMSO  \n165578                       DMSO                     DMSO  \n165579                       DMSO                     DMSO  \n165580                       DMSO                     DMSO  \n\n[165581 rows x 549 columns]",
      "text/html": "<div>\n<style scoped>\n    .dataframe tbody tr th:only-of-type {\n        vertical-align: middle;\n    }\n\n    .dataframe tbody tr th {\n        vertical-align: top;\n    }\n\n    .dataframe thead th {\n        text-align: right;\n    }\n</style>\n<table border=\"1\" class=\"dataframe\">\n  <thead>\n    <tr style=\"text-align: right;\">\n      <th></th>\n      <th>nucleus_label_id</th>\n      <th>MEVAE_0</th>\n      <th>MEVAE_1</th>\n      <th>MEVAE_2</th>\n      <th>MEVAE_3</th>\n      <th>MEVAE_4</th>\n      <th>MEVAE_5</th>\n      <th>MEVAE_6</th>\n      <th>MEVAE_7</th>\n      <th>MEVAE_8</th>\n      <th>...</th>\n      <th>PyRadiomics_original_gldm_LargeDependenceLowGrayLevelEmphasis</th>\n      <th>PyRadiomics_original_gldm_LowGrayLevelEmphasis</th>\n      <th>PyRadiomics_original_gldm_SmallDependenceEmphasis</th>\n      <th>PyRadiomics_original_gldm_SmallDependenceHighGrayLevelEmphasis</th>\n      <th>PyRadiomics_original_gldm_SmallDependenceLowGrayLevelEmphasis</th>\n      <th>Image_Filename_DAPI</th>\n      <th>Image_Metadata_Well_DAPI</th>\n      <th>Image_Metadata_Plate_DAPI</th>\n      <th>MoA</th>\n      <th>Image_Metadata_Compound</th>\n    </tr>\n  </thead>\n  <tbody>\n    <tr>\n      <th>0</th>\n      <td>1</td>\n      <td>0.829524</td>\n      <td>-0.431699</td>\n      <td>-2.027851</td>\n      <td>-0.236727</td>\n      <td>-1.776646</td>\n      <td>-0.847156</td>\n      <td>0.073231</td>\n      <td>-0.545120</td>\n      <td>-1.504611</td>\n      <td>...</td>\n      <td>0.088792</td>\n      <td>0.012025</td>\n      <td>0.196391</td>\n      <td>26.052162</td>\n      <td>0.007129</td>\n      <td>Week1_150607_E03_s1_w16095F7B1-3F9F-41EE-B293-...</td>\n      <td>E03</td>\n      <td>Week1_22361</td>\n      <td>Microtubule destabilizers</td>\n      <td>colchicine</td>\n    </tr>\n    <tr>\n      <th>1</th>\n      <td>10</td>\n      <td>-0.511993</td>\n      <td>2.264229</td>\n      <td>3.573155</td>\n      <td>-0.121065</td>\n      <td>0.622903</td>\n      <td>0.501957</td>\n      <td>0.019351</td>\n      <td>0.487239</td>\n      <td>-0.587418</td>\n      <td>...</td>\n      <td>0.083124</td>\n      <td>0.010776</td>\n      <td>0.243430</td>\n      <td>32.053996</td>\n      <td>0.006321</td>\n      <td>Week1_150607_E03_s1_w16095F7B1-3F9F-41EE-B293-...</td>\n      <td>E03</td>\n      <td>Week1_22361</td>\n      <td>Microtubule destabilizers</td>\n      <td>colchicine</td>\n    </tr>\n    <tr>\n      <th>2</th>\n      <td>100</td>\n      <td>0.354940</td>\n      <td>-0.568929</td>\n      <td>1.531881</td>\n      <td>-0.497587</td>\n      <td>-1.318389</td>\n      <td>-1.347895</td>\n      <td>-0.768199</td>\n      <td>0.239909</td>\n      <td>0.093347</td>\n      <td>...</td>\n      <td>0.083832</td>\n      <td>0.029677</td>\n      <td>0.363537</td>\n      <td>32.021390</td>\n      <td>0.024424</td>\n      <td>Week1_150607_E03_s1_w16095F7B1-3F9F-41EE-B293-...</td>\n      <td>E03</td>\n      <td>Week1_22361</td>\n      <td>Microtubule destabilizers</td>\n      <td>colchicine</td>\n    </tr>\n    <tr>\n      <th>3</th>\n      <td>101</td>\n      <td>-0.723006</td>\n      <td>0.236167</td>\n      <td>2.260900</td>\n      <td>0.181090</td>\n      <td>0.133216</td>\n      <td>-0.176698</td>\n      <td>0.207282</td>\n      <td>0.053831</td>\n      <td>-1.435793</td>\n      <td>...</td>\n      <td>0.076806</td>\n      <td>0.025271</td>\n      <td>0.361975</td>\n      <td>41.038075</td>\n      <td>0.020058</td>\n      <td>Week1_150607_E03_s1_w16095F7B1-3F9F-41EE-B293-...</td>\n      <td>E03</td>\n      <td>Week1_22361</td>\n      <td>Microtubule destabilizers</td>\n      <td>colchicine</td>\n    </tr>\n    <tr>\n      <th>4</th>\n      <td>102</td>\n      <td>0.584558</td>\n      <td>0.272585</td>\n      <td>3.004394</td>\n      <td>0.064317</td>\n      <td>0.213237</td>\n      <td>-0.194643</td>\n      <td>0.353262</td>\n      <td>-0.020850</td>\n      <td>0.172947</td>\n      <td>...</td>\n      <td>0.043608</td>\n      <td>0.016646</td>\n      <td>0.431036</td>\n      <td>62.652496</td>\n      <td>0.014154</td>\n      <td>Week1_150607_E03_s1_w16095F7B1-3F9F-41EE-B293-...</td>\n      <td>E03</td>\n      <td>Week1_22361</td>\n      <td>Microtubule destabilizers</td>\n      <td>colchicine</td>\n    </tr>\n    <tr>\n      <th>...</th>\n      <td>...</td>\n      <td>...</td>\n      <td>...</td>\n      <td>...</td>\n      <td>...</td>\n      <td>...</td>\n      <td>...</td>\n      <td>...</td>\n      <td>...</td>\n      <td>...</td>\n      <td>...</td>\n      <td>...</td>\n      <td>...</td>\n      <td>...</td>\n      <td>...</td>\n      <td>...</td>\n      <td>...</td>\n      <td>...</td>\n      <td>...</td>\n      <td>...</td>\n      <td>...</td>\n    </tr>\n    <tr>\n      <th>165576</th>\n      <td>95</td>\n      <td>0.872031</td>\n      <td>-0.120161</td>\n      <td>0.730679</td>\n      <td>-1.150540</td>\n      <td>-3.309189</td>\n      <td>0.697588</td>\n      <td>-0.147627</td>\n      <td>0.075484</td>\n      <td>-1.067852</td>\n      <td>...</td>\n      <td>0.101235</td>\n      <td>0.018161</td>\n      <td>0.237983</td>\n      <td>23.135815</td>\n      <td>0.012148</td>\n      <td>Week7_7__G11_s4_w148C49A7C-A162-4F22-B01F-36BD...</td>\n      <td>G11</td>\n      <td>Week7_34641</td>\n      <td>DMSO</td>\n      <td>DMSO</td>\n    </tr>\n    <tr>\n      <th>165577</th>\n      <td>96</td>\n      <td>2.472578</td>\n      <td>-1.344453</td>\n      <td>4.544069</td>\n      <td>-0.210479</td>\n      <td>-0.572955</td>\n      <td>-0.429177</td>\n      <td>-0.028202</td>\n      <td>-0.138917</td>\n      <td>-0.775406</td>\n      <td>...</td>\n      <td>0.093707</td>\n      <td>0.008778</td>\n      <td>0.188244</td>\n      <td>24.500828</td>\n      <td>0.004331</td>\n      <td>Week7_7__G11_s4_w148C49A7C-A162-4F22-B01F-36BD...</td>\n      <td>G11</td>\n      <td>Week7_34641</td>\n      <td>DMSO</td>\n      <td>DMSO</td>\n    </tr>\n    <tr>\n      <th>165578</th>\n      <td>97</td>\n      <td>1.479295</td>\n      <td>-2.520546</td>\n      <td>0.595098</td>\n      <td>0.704626</td>\n      <td>-2.581388</td>\n      <td>0.341864</td>\n      <td>0.249840</td>\n      <td>-0.044772</td>\n      <td>-0.739465</td>\n      <td>...</td>\n      <td>0.130201</td>\n      <td>0.014245</td>\n      <td>0.181528</td>\n      <td>18.853044</td>\n      <td>0.007718</td>\n      <td>Week7_7__G11_s4_w148C49A7C-A162-4F22-B01F-36BD...</td>\n      <td>G11</td>\n      <td>Week7_34641</td>\n      <td>DMSO</td>\n      <td>DMSO</td>\n    </tr>\n    <tr>\n      <th>165579</th>\n      <td>98</td>\n      <td>1.817495</td>\n      <td>-2.007999</td>\n      <td>0.060944</td>\n      <td>-0.102757</td>\n      <td>-0.745181</td>\n      <td>-0.909900</td>\n      <td>-0.399792</td>\n      <td>-0.109981</td>\n      <td>0.386942</td>\n      <td>...</td>\n      <td>0.089475</td>\n      <td>0.010050</td>\n      <td>0.216894</td>\n      <td>30.941120</td>\n      <td>0.004658</td>\n      <td>Week7_7__G11_s4_w148C49A7C-A162-4F22-B01F-36BD...</td>\n      <td>G11</td>\n      <td>Week7_34641</td>\n      <td>DMSO</td>\n      <td>DMSO</td>\n    </tr>\n    <tr>\n      <th>165580</th>\n      <td>99</td>\n      <td>1.669654</td>\n      <td>0.803767</td>\n      <td>0.106015</td>\n      <td>0.212779</td>\n      <td>0.500568</td>\n      <td>-0.932919</td>\n      <td>-0.178273</td>\n      <td>-0.325202</td>\n      <td>0.478058</td>\n      <td>...</td>\n      <td>0.118907</td>\n      <td>0.016299</td>\n      <td>0.203126</td>\n      <td>22.597566</td>\n      <td>0.010273</td>\n      <td>Week7_7__G11_s4_w148C49A7C-A162-4F22-B01F-36BD...</td>\n      <td>G11</td>\n      <td>Week7_34641</td>\n      <td>DMSO</td>\n      <td>DMSO</td>\n    </tr>\n  </tbody>\n</table>\n<p>165581 rows × 549 columns</p>\n</div>"
     },
     "execution_count": 8,
     "metadata": {},
     "output_type": "execute_result"
    }
   ],
   "source": [
    "table"
   ],
   "metadata": {
    "collapsed": false,
    "ExecuteTime": {
     "end_time": "2024-03-14T16:25:46.836698Z",
     "start_time": "2024-03-14T16:25:46.776329Z"
    }
   },
   "id": "9f40dd09d250b9d9",
   "execution_count": 8
  },
  {
   "cell_type": "code",
   "outputs": [],
   "source": [],
   "metadata": {
    "collapsed": false
   },
   "id": "fbc2807470db535"
  }
 ],
 "metadata": {
  "kernelspec": {
   "display_name": "Python 3",
   "language": "python",
   "name": "python3"
  },
  "language_info": {
   "codemirror_mode": {
    "name": "ipython",
    "version": 2
   },
   "file_extension": ".py",
   "mimetype": "text/x-python",
   "name": "python",
   "nbconvert_exporter": "python",
   "pygments_lexer": "ipython2",
   "version": "2.7.6"
  }
 },
 "nbformat": 4,
 "nbformat_minor": 5
}
